{
  "nbformat": 4,
  "nbformat_minor": 0,
  "metadata": {
    "colab": {
      "name": "Twitter AI RNN",
      "version": "0.3.2",
      "provenance": [],
      "toc_visible": true,
      "include_colab_link": true
    },
    "kernelspec": {
      "name": "python3",
      "display_name": "Python 3"
    },
    "accelerator": "GPU"
  },
  "cells": [
    {
      "cell_type": "markdown",
      "metadata": {
        "id": "view-in-github",
        "colab_type": "text"
      },
      "source": [
        "<a href=\"https://colab.research.google.com/github/henouji/hnj/blob/master/HNJ_Tweets_AI_RNN.ipynb\" target=\"_parent\"><img src=\"https://colab.research.google.com/assets/colab-badge.svg\" alt=\"Open In Colab\"/></a>"
      ]
    },
    {
      "cell_type": "markdown",
      "metadata": {
        "id": "2u96peU_Pj8n",
        "colab_type": "text"
      },
      "source": [
        "# Imports "
      ]
    },
    {
      "cell_type": "code",
      "metadata": {
        "id": "86YW1h4P3G0d",
        "colab_type": "code",
        "colab": {}
      },
      "source": [
        "import tweepy as tp\n",
        "import tensorflow as tf \n",
        "import numpy as np\n",
        "import os \n",
        "\n",
        "tf.enable_eager_execution()"
      ],
      "execution_count": 0,
      "outputs": []
    },
    {
      "cell_type": "markdown",
      "metadata": {
        "id": "EVLxUNyhPluv",
        "colab_type": "text"
      },
      "source": [
        "# File Upload"
      ]
    },
    {
      "cell_type": "code",
      "metadata": {
        "id": "SwY4RSt3rHFR",
        "colab_type": "code",
        "colab": {}
      },
      "source": [
        "from google.colab import files\n",
        "uploaded = files.upload()"
      ],
      "execution_count": 0,
      "outputs": []
    },
    {
      "cell_type": "markdown",
      "metadata": {
        "id": "EiZR4HO8PnaQ",
        "colab_type": "text"
      },
      "source": [
        "# Data preparation"
      ]
    },
    {
      "cell_type": "code",
      "metadata": {
        "id": "WGlWbVIhwwzc",
        "colab_type": "code",
        "colab": {}
      },
      "source": [
        "text = uploaded['tweets.txt'].decode('utf-8')"
      ],
      "execution_count": 0,
      "outputs": []
    },
    {
      "cell_type": "code",
      "metadata": {
        "id": "Sb8NyRO0xPmn",
        "colab_type": "code",
        "colab": {}
      },
      "source": [
        "vocabfile = text\n",
        "\n",
        "# Create a vocabulary of characters\n",
        "vocab = sorted(set(vocabfile))\n",
        "\n",
        "# Convert to index \n",
        "char2idx = {u:i for i, u in enumerate(vocab)}\n",
        "idx2char = np.array(vocab)\n",
        "\n",
        "len(vocab)\n",
        "\n",
        "text_to_int = np.array([char2idx[x] for x in text])\n",
        "\n",
        "# Parse to train per sequence\n",
        "sequence_length = 30\n",
        "examples_per_epoch = len(text) //sequence_length\n",
        "\n",
        "# Slice dataset as a tensor\n",
        "char_dataset = tf.data.Dataset.from_tensor_slices(text_to_int)\n",
        "\n",
        "# Cut for desirable length \n",
        "sequences = char_dataset.batch(sequence_length+1, drop_remainder=True)\n",
        "for item in sequences.take(5):\n",
        "    print(repr(''.join(idx2char[item.numpy()])))\n",
        "\n",
        "# Function to split dataset {FOR TRAINING}: input and next target character\n",
        "def split_input_target(chunk):\n",
        "    input_text = chunk[:-1]\n",
        "    target_text = chunk[1:]\n",
        "    \n",
        "    return input_text, target_text\n",
        "\n",
        "dataset = sequences.map(split_input_target)\n",
        "\n",
        "# Example Training\n",
        "for iExample, tExample in dataset.take(1):\n",
        "    print('Input Data: ', repr(''.join(idx2char[iExample.numpy()])))\n",
        "    print('Target Data: ', repr(''.join(idx2char[tExample.numpy()])))\n",
        "    for i, (input_idx, target_idx) in enumerate(zip(iExample[:4], tExample[:4])):\n",
        "        print(\"Step {:4d}\".format(i))\n",
        "        print(\"  input: {} ({:s})\".format(input_idx, repr(idx2char[input_idx])))\n",
        "        print(\"  expected output: {} ({:s})\".format(target_idx, repr(idx2char[target_idx])))\n"
      ],
      "execution_count": 0,
      "outputs": []
    },
    {
      "cell_type": "markdown",
      "metadata": {
        "id": "c3lhnUgJP1HU",
        "colab_type": "text"
      },
      "source": [
        "# Model Building "
      ]
    },
    {
      "cell_type": "code",
      "metadata": {
        "id": "iuUr9Oi-x17q",
        "colab_type": "code",
        "colab": {}
      },
      "source": [
        "# Initialize size of batch for training: The input node layer\n",
        "batch_size = 8\n",
        "steps_per_epoch = examples_per_epoch//batch_size\n",
        "\n",
        "# Size of buffer\n",
        "buffer_size = 1000\n",
        "dataset = dataset.shuffle(buffer_size).batch(batch_size, drop_remainder=True)\n",
        "\n",
        "vocab_size = len(vocab)\n",
        "# 1st Layer of hidden Node\n",
        "embedding_dim = 256 \n",
        "# Recursive Layer \n",
        "rnn_units = 1024\n",
        "\n",
        "# Initialize RNN Layer if for GPU or CPU\n",
        "if tf.test.is_gpu_available():\n",
        "    rnn = tf.keras.layers.CuDNNGRU\n",
        "else:\n",
        "    import functools\n",
        "    rnn = functools.partial(\n",
        "    tf.keras.layers.GRU, recurrent_activation='sigmoid')\n",
        "\n",
        "# Build model for initializing\n",
        "def build_model(vocab_size, embedding_dim, rnn_units, batch_size):\n",
        "    model = tf.keras.Sequential([\n",
        "        tf.keras.layers.Embedding(vocab_size, embedding_dim, \n",
        "                                  batch_input_shape=[batch_size, None]),\n",
        "        rnn(rnn_units,\n",
        "           return_sequences=True,\n",
        "           recurrent_initializer='glorot_uniform',\n",
        "           stateful=True),\n",
        "        tf.keras.layers.Dense(vocab_size)\n",
        "    ])\n",
        "    \n",
        "    return model\n",
        "\n",
        "# Building Model\n",
        "model = build_model(vocab_size=len(vocab),\n",
        "                   embedding_dim=embedding_dim,\n",
        "                   rnn_units=rnn_units,\n",
        "                   batch_size=batch_size)"
      ],
      "execution_count": 0,
      "outputs": []
    },
    {
      "cell_type": "markdown",
      "metadata": {
        "id": "_G7fvkBUP_H0",
        "colab_type": "text"
      },
      "source": [
        "# Model Summary "
      ]
    },
    {
      "cell_type": "code",
      "metadata": {
        "id": "YGDYKkyAP-Q1",
        "colab_type": "code",
        "colab": {}
      },
      "source": [
        "\n",
        "# Model summary\n",
        "for input_example_batch, target_example_batch in dataset.take(1):\n",
        "    example_batch_predictions = model(input_example_batch)\n",
        "    print(example_batch_predictions.shape, \"# (batch_size, sequence_length, vocab_size)\")\n",
        "model.summary()\n",
        "\n",
        "# Samples \n",
        "sampled_indices = tf.random.categorical(example_batch_predictions[0], num_samples=1)\n",
        "sampled_indices = tf.squeeze(sampled_indices, axis=-1).numpy()"
      ],
      "execution_count": 0,
      "outputs": []
    },
    {
      "cell_type": "markdown",
      "metadata": {
        "id": "yIXOi-drQGJN",
        "colab_type": "text"
      },
      "source": [
        "# Model Training"
      ]
    },
    {
      "cell_type": "code",
      "metadata": {
        "id": "0_mdchcmQFW9",
        "colab_type": "code",
        "colab": {}
      },
      "source": [
        "# Calculates Loss\n",
        "def loss(labels, logits):\n",
        "    return tf.keras.losses.sparse_categorical_crossentropy(labels, logits, from_logits=True)\n",
        "\n",
        "example_batch_loss = loss(target_example_batch, example_batch_predictions)\n",
        "print(\"Prediction Shape: \", example_batch_predictions.shape,\"# (batch_size, sequence_length, vocab_size)\")\n",
        "print(\"Scalar Loss: \", example_batch_loss.numpy().mean())\n",
        "\n",
        "# Compile model \n",
        "model.compile(optimizer=tf.train.AdamOptimizer(), loss=loss)\n",
        "\n",
        "# Directory where the checkpoints will be saved\n",
        "checkpoint_dir = './training_checkpoints'\n",
        "# Name of the checkpoint files\n",
        "checkpoint_prefix = os.path.join(checkpoint_dir, \"ckpt_{epoch}\")\n",
        "\n",
        "checkpoint_callback=tf.keras.callbacks.ModelCheckpoint(\n",
        "    filepath=checkpoint_prefix,\n",
        "    save_weights_only=True)\n",
        "\n",
        "# Model Training \n",
        "# Callbacks are used to refit shape of model\n",
        "history = model.fit(dataset.repeat(), epochs=50, steps_per_epoch=steps_per_epoch, callbacks=[checkpoint_callback])\n",
        "\n",
        "model = build_model(vocab_size, embedding_dim, rnn_units, batch_size=1)\n",
        "model.load_weights(tf.train.latest_checkpoint(checkpoint_dir))\n",
        "model.build(tf.TensorShape([1,None]))\n",
        "\n"
      ],
      "execution_count": 0,
      "outputs": []
    },
    {
      "cell_type": "markdown",
      "metadata": {
        "id": "mxo73WKwPbLm",
        "colab_type": "text"
      },
      "source": [
        "# Use Model to Predict Tweet"
      ]
    },
    {
      "cell_type": "code",
      "metadata": {
        "id": "jPBx5_YUx4yz",
        "colab_type": "code",
        "colab": {}
      },
      "source": [
        "def generate_text(model, start_string):\n",
        "  \n",
        "  num_generate = 100\n",
        "  \n",
        "  input_eval = [char2idx[s] for s in start_string]\n",
        "  input_eval = tf.expand_dims(input_eval, 0)\n",
        "  \n",
        "  print(input_eval)\n",
        "  \n",
        "  text_generated = []\n",
        "  \n",
        "  temperature = 1.0\n",
        "  \n",
        "  model.reset_states()\n",
        "  for i in range(num_generate):\n",
        "    predictions = model(input_eval)\n",
        "    \n",
        "    predictions = tf.squeeze(predictions, 0)\n",
        "    \n",
        "    predictions = predictions/ temperature\n",
        "    \n",
        "    predicted_id = tf.multinomial(predictions, num_samples=1)[-1,0].numpy()\n",
        "    \n",
        "    input_eval = tf.expand_dims([predicted_id],0)\n",
        "    \n",
        "    text_generated.append(idx2char[predicted_id])\n",
        "    \n",
        "  return (start_string + ''.join(text_generated))"
      ],
      "execution_count": 0,
      "outputs": []
    },
    {
      "cell_type": "code",
      "metadata": {
        "id": "WoKi7GH2yJ10",
        "colab_type": "code",
        "colab": {}
      },
      "source": [
        "print(generate_text(model, start_string=u\"Dude\"))"
      ],
      "execution_count": 0,
      "outputs": []
    },
    {
      "cell_type": "markdown",
      "metadata": {
        "id": "vFIvXToOHPLo",
        "colab_type": "text"
      },
      "source": [
        "# Saving Model to download "
      ]
    },
    {
      "cell_type": "code",
      "metadata": {
        "id": "4q09PedTIPO3",
        "colab_type": "code",
        "colab": {}
      },
      "source": [
        "from google.colab import drive\n",
        "drive.mount('/content/gdrive')"
      ],
      "execution_count": 0,
      "outputs": []
    },
    {
      "cell_type": "code",
      "metadata": {
        "id": "j9Nd5rZ_HTle",
        "colab_type": "code",
        "colab": {}
      },
      "source": [
        "model_save_name = 'classifier.pt'\n",
        "path = F\"/content/gdrive/My Drive/{model_save_name}\" \n",
        "model.save('twitterRnn.h5')"
      ],
      "execution_count": 0,
      "outputs": []
    },
    {
      "cell_type": "code",
      "metadata": {
        "id": "6gX3W8CQPUuf",
        "colab_type": "code",
        "colab": {}
      },
      "source": [
        ""
      ],
      "execution_count": 0,
      "outputs": []
    },
    {
      "cell_type": "markdown",
      "metadata": {
        "id": "uSobvoK6JCTa",
        "colab_type": "text"
      },
      "source": [
        "# Loading Model \n",
        "    Upload model and weights "
      ]
    },
    {
      "cell_type": "code",
      "metadata": {
        "id": "FnhHulVzIw7R",
        "colab_type": "code",
        "colab": {}
      },
      "source": [
        "from google.colab import files\n",
        "uploaded = files.upload()"
      ],
      "execution_count": 0,
      "outputs": []
    },
    {
      "cell_type": "code",
      "metadata": {
        "id": "Tm4cBz42JPT0",
        "colab_type": "code",
        "colab": {}
      },
      "source": [
        "from keras.models import model_from_json\n",
        "model = model_from_json(uploaded['twitterRNN.json'])\n",
        "model.load_weights(uploaded['twitterWeights.h5'])"
      ],
      "execution_count": 0,
      "outputs": []
    }
  ]
}