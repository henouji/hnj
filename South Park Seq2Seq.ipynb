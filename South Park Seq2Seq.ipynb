{
  "nbformat": 4,
  "nbformat_minor": 0,
  "metadata": {
    "colab": {
      "name": "SouthPark Chat Bot",
      "version": "0.3.2",
      "provenance": [],
      "toc_visible": true,
      "include_colab_link": true
    },
    "kernelspec": {
      "name": "python3",
      "display_name": "Python 3"
    },
    "accelerator": "GPU"
  },
  "cells": [
    {
      "cell_type": "markdown",
      "metadata": {
        "id": "view-in-github",
        "colab_type": "text"
      },
      "source": [
        "<a href=\"https://colab.research.google.com/github/henouji/hnj/blob/master/South%20Park%20Seq2Seq.ipynb\" target=\"_parent\"><img src=\"https://colab.research.google.com/assets/colab-badge.svg\" alt=\"Open In Colab\"/></a>"
      ]
    },
    {
      "cell_type": "markdown",
      "metadata": {
        "id": "CGU4LcNt6pLK",
        "colab_type": "text"
      },
      "source": [
        "# Imports and Libraries "
      ]
    },
    {
      "cell_type": "code",
      "metadata": {
        "id": "fnZQW6IR6m0O",
        "colab_type": "code",
        "outputId": "232d31c4-9387-4a30-dff3-e7bf92267426",
        "colab": {
          "base_uri": "https://localhost:8080/",
          "height": 34
        }
      },
      "source": [
        "import tensorflow as tf \n",
        "import numpy as np\n",
        "from keras.models import Model\n",
        "from keras.layers import CuDNNLSTM, Input, Dense, LSTM, Embedding, TimeDistributed, Flatten, Dropout\n",
        "from keras.optimizers import RMSprop\n",
        "import pandas as pd \n",
        "from google.colab import files \n",
        "import io "
      ],
      "execution_count": 1,
      "outputs": [
        {
          "output_type": "stream",
          "text": [
            "Using TensorFlow backend.\n"
          ],
          "name": "stderr"
        }
      ]
    },
    {
      "cell_type": "markdown",
      "metadata": {
        "id": "AEB-NRuG7apg",
        "colab_type": "text"
      },
      "source": [
        "# File upload and data reading"
      ]
    },
    {
      "cell_type": "code",
      "metadata": {
        "id": "02gr86QY7Y-N",
        "colab_type": "code",
        "outputId": "aa695857-8ce2-4f39-c0da-6a3667217dfd",
        "colab": {
          "resources": {
            "http://localhost:8080/nbextensions/google.colab/files.js": {
              "data": "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",
              "ok": true,
              "headers": [
                [
                  "content-type",
                  "application/javascript"
                ]
              ],
              "status": 200,
              "status_text": ""
            }
          },
          "base_uri": "https://localhost:8080/",
          "height": 74
        }
      },
      "source": [
        "uploaded = files.upload()"
      ],
      "execution_count": 2,
      "outputs": [
        {
          "output_type": "display_data",
          "data": {
            "text/html": [
              "\n",
              "     <input type=\"file\" id=\"files-1eade632-0440-4dc7-ad0e-f52bbbcc32db\" name=\"files[]\" multiple disabled />\n",
              "     <output id=\"result-1eade632-0440-4dc7-ad0e-f52bbbcc32db\">\n",
              "      Upload widget is only available when the cell has been executed in the\n",
              "      current browser session. Please rerun this cell to enable.\n",
              "      </output>\n",
              "      <script src=\"/nbextensions/google.colab/files.js\"></script> "
            ],
            "text/plain": [
              "<IPython.core.display.HTML object>"
            ]
          },
          "metadata": {
            "tags": []
          }
        },
        {
          "output_type": "stream",
          "text": [
            "Saving sPark.csv to sPark.csv\n"
          ],
          "name": "stdout"
        }
      ]
    },
    {
      "cell_type": "code",
      "metadata": {
        "id": "jgjZc_Uc7gPI",
        "colab_type": "code",
        "colab": {}
      },
      "source": [
        "df = pd.read_csv(io.BytesIO(uploaded['sPark.csv']))"
      ],
      "execution_count": 0,
      "outputs": []
    },
    {
      "cell_type": "markdown",
      "metadata": {
        "id": "OsGjMaBK7y33",
        "colab_type": "text"
      },
      "source": [
        "# Data Preparation and Input Data Initialization for Character Level Processing\n",
        "\n",
        "\n",
        "> Turn the sentences into 3 Numpy arrays, encoder_input_data, decoder_input_data, decoder_target_data:\n",
        "\n",
        "> * encoder_input_data is a 3D array of shape (num_pairs, max_english_sentence_length, num_english_characters) containing a one-hot vectorization of the English sentences\n",
        "* decoder_input_data is a 3D array of shape (num_pairs, max_french_sentence_length, num_french_characters) containing a one-hot vectorization of the French sentences\n",
        "* decoder_target_data is the same as decoder_input_data but offset by one timestep. decoder_target_data[:, t, :] will be the same as decoder_input_data[:, t + 1, :]\n",
        "\n"
      ]
    },
    {
      "cell_type": "code",
      "metadata": {
        "id": "PxWcyFDr7yMg",
        "colab_type": "code",
        "outputId": "e813b6a2-fed0-4671-e620-1c68ecd0164b",
        "colab": {
          "base_uri": "https://localhost:8080/",
          "height": 204
        }
      },
      "source": [
        "df.head()"
      ],
      "execution_count": 4,
      "outputs": [
        {
          "output_type": "execute_result",
          "data": {
            "text/html": [
              "<div>\n",
              "<style scoped>\n",
              "    .dataframe tbody tr th:only-of-type {\n",
              "        vertical-align: middle;\n",
              "    }\n",
              "\n",
              "    .dataframe tbody tr th {\n",
              "        vertical-align: top;\n",
              "    }\n",
              "\n",
              "    .dataframe thead th {\n",
              "        text-align: right;\n",
              "    }\n",
              "</style>\n",
              "<table border=\"1\" class=\"dataframe\">\n",
              "  <thead>\n",
              "    <tr style=\"text-align: right;\">\n",
              "      <th></th>\n",
              "      <th>Season</th>\n",
              "      <th>Episode</th>\n",
              "      <th>Character</th>\n",
              "      <th>Line</th>\n",
              "    </tr>\n",
              "  </thead>\n",
              "  <tbody>\n",
              "    <tr>\n",
              "      <th>0</th>\n",
              "      <td>10</td>\n",
              "      <td>1</td>\n",
              "      <td>Stan</td>\n",
              "      <td>You guys, you guys! Chef is going away. \\n</td>\n",
              "    </tr>\n",
              "    <tr>\n",
              "      <th>1</th>\n",
              "      <td>10</td>\n",
              "      <td>1</td>\n",
              "      <td>Kyle</td>\n",
              "      <td>Going away? For how long?\\n</td>\n",
              "    </tr>\n",
              "    <tr>\n",
              "      <th>2</th>\n",
              "      <td>10</td>\n",
              "      <td>1</td>\n",
              "      <td>Stan</td>\n",
              "      <td>Forever.\\n</td>\n",
              "    </tr>\n",
              "    <tr>\n",
              "      <th>3</th>\n",
              "      <td>10</td>\n",
              "      <td>1</td>\n",
              "      <td>Chef</td>\n",
              "      <td>I'm sorry boys.\\n</td>\n",
              "    </tr>\n",
              "    <tr>\n",
              "      <th>4</th>\n",
              "      <td>10</td>\n",
              "      <td>1</td>\n",
              "      <td>Stan</td>\n",
              "      <td>Chef said he's been bored, so he joining a gro...</td>\n",
              "    </tr>\n",
              "  </tbody>\n",
              "</table>\n",
              "</div>"
            ],
            "text/plain": [
              "  Season Episode Character                                               Line\n",
              "0     10       1      Stan         You guys, you guys! Chef is going away. \\n\n",
              "1     10       1      Kyle                        Going away? For how long?\\n\n",
              "2     10       1      Stan                                         Forever.\\n\n",
              "3     10       1      Chef                                  I'm sorry boys.\\n\n",
              "4     10       1      Stan  Chef said he's been bored, so he joining a gro..."
            ]
          },
          "metadata": {
            "tags": []
          },
          "execution_count": 4
        }
      ]
    },
    {
      "cell_type": "code",
      "metadata": {
        "id": "j9m51W-Q78zU",
        "colab_type": "code",
        "colab": {}
      },
      "source": [
        "dataset_array = df.Line.values "
      ],
      "execution_count": 0,
      "outputs": []
    },
    {
      "cell_type": "code",
      "metadata": {
        "id": "8_4RJRsO8nsw",
        "colab_type": "code",
        "outputId": "9a206231-5a9c-4751-ba37-d2f6121992fd",
        "colab": {
          "base_uri": "https://localhost:8080/",
          "height": 34
        }
      },
      "source": [
        "# Limiting Dataset\n",
        "dataset_array = dataset_array[:len(dataset_array)//10]\n",
        "print(\"Total sentences: \",len(dataset_array))"
      ],
      "execution_count": 7,
      "outputs": [
        {
          "output_type": "stream",
          "text": [
            "Total sentences:  7089\n"
          ],
          "name": "stdout"
        }
      ]
    },
    {
      "cell_type": "code",
      "metadata": {
        "id": "bWSu1_EX8Zie",
        "colab_type": "code",
        "colab": {}
      },
      "source": [
        "en_sample = dataset_array[:len(dataset_array)-1]\n",
        "de_sample = dataset_array[1 :len(dataset_array)]\n",
        "for i, sent in enumerate(de_sample):\n",
        "  de_sample[i] = '\\t ' + sent "
      ],
      "execution_count": 0,
      "outputs": []
    },
    {
      "cell_type": "code",
      "metadata": {
        "id": "KLZHaEV19Jhn",
        "colab_type": "code",
        "outputId": "69fa2ea8-860a-4ea1-a7b4-d53113ee1770",
        "colab": {
          "base_uri": "https://localhost:8080/",
          "height": 34
        }
      },
      "source": [
        "en_num_pairs = len(en_sample)\n",
        "de_num_pairs = len(de_sample)\n",
        "\n",
        "print(\"Number of Pairs : [\",en_num_pairs,\",\",de_num_pairs,\"]\")"
      ],
      "execution_count": 9,
      "outputs": [
        {
          "output_type": "stream",
          "text": [
            "Number of Pairs : [ 7088 , 7088 ]\n"
          ],
          "name": "stdout"
        }
      ]
    },
    {
      "cell_type": "code",
      "metadata": {
        "id": "GCMLerBB9P_Z",
        "colab_type": "code",
        "outputId": "11b735f4-2852-46c1-e569-84765a157c9a",
        "colab": {
          "base_uri": "https://localhost:8080/",
          "height": 34
        }
      },
      "source": [
        "max_en_sentence = max([len(x) for x in en_sample])\n",
        "max_de_sentence = max([len(x) for x in de_sample])\n",
        "\n",
        "print(\"Max Sentence: [\",max_en_sentence,\",\",max_de_sentence,\"]\")"
      ],
      "execution_count": 10,
      "outputs": [
        {
          "output_type": "stream",
          "text": [
            "Max Sentence: [ 1059 , 1059 ]\n"
          ],
          "name": "stdout"
        }
      ]
    },
    {
      "cell_type": "code",
      "metadata": {
        "id": "oGeqc4AZ-y22",
        "colab_type": "code",
        "colab": {}
      },
      "source": [
        "en_char = set()\n",
        "de_char = set()\n",
        "\n",
        "for i in en_sample:\n",
        "  for x in i:\n",
        "    if x not in en_char:\n",
        "      en_char.add(x)\n",
        "for i in de_sample:\n",
        "  for x in i:\n",
        "    if x not in de_char:\n",
        "      de_char.add(x)"
      ],
      "execution_count": 0,
      "outputs": []
    },
    {
      "cell_type": "code",
      "metadata": {
        "id": "q3hedQgqD_d-",
        "colab_type": "code",
        "outputId": "bba7c4d6-684b-412e-bbcd-be7773e7bf88",
        "colab": {
          "base_uri": "https://localhost:8080/",
          "height": 34
        }
      },
      "source": [
        "num_en_char = len(en_char)\n",
        "num_de_char = len(de_char)\n",
        "\n",
        "print(\"Number of Characters: [\",num_en_char,\":\",num_de_char,\"]\")"
      ],
      "execution_count": 12,
      "outputs": [
        {
          "output_type": "stream",
          "text": [
            "Number of Characters: [ 89 : 89 ]\n"
          ],
          "name": "stdout"
        }
      ]
    },
    {
      "cell_type": "code",
      "metadata": {
        "id": "nWht-_ROEizj",
        "colab_type": "code",
        "outputId": "36984673-cc63-43a7-d3e5-611188781340",
        "colab": {
          "base_uri": "https://localhost:8080/",
          "height": 34
        }
      },
      "source": [
        "# Array Declaration\n",
        "en_data_input = np.zeros((en_num_pairs, max_en_sentence, num_en_char), dtype='float32')\n",
        "de_data_input = np.zeros((de_num_pairs, max_de_sentence, num_de_char), dtype='float32')\n",
        "decode_target = np.zeros((de_num_pairs, max_de_sentence, num_de_char), dtype='float32')\n",
        "print(\"Shapes: [\",en_data_input.shape,\":\",en_data_input.shape,\"] Target [\",decode_target.shape,\"]\")"
      ],
      "execution_count": 13,
      "outputs": [
        {
          "output_type": "stream",
          "text": [
            "Shapes: [ (7088, 1059, 89) : (7088, 1059, 89) ] Target [ (7088, 1059, 89) ]\n"
          ],
          "name": "stdout"
        }
      ]
    },
    {
      "cell_type": "code",
      "metadata": {
        "id": "1gvB_CpNFq-h",
        "colab_type": "code",
        "colab": {}
      },
      "source": [
        "# For Vectorizing \n",
        "en_char_int = dict()\n",
        "en_int_char = dict()\n",
        "de_char_int = dict()\n",
        "de_int_char = dict()\n",
        "\n",
        "for i, char in enumerate(en_char):\n",
        "  en_char_int[char] = i\n",
        "  en_int_char[i] = char\n",
        "for i, char in enumerate(de_char):\n",
        "  de_char_int[char] = i\n",
        "  de_int_char[i] = char"
      ],
      "execution_count": 0,
      "outputs": []
    },
    {
      "cell_type": "code",
      "metadata": {
        "id": "5VP6prXWFCdX",
        "colab_type": "code",
        "colab": {}
      },
      "source": [
        "# One Hot Vectorizing\n",
        "for i, (en_, de_) in enumerate(zip(en_sample, de_sample)):\n",
        "  for char, char_en in enumerate(en_):\n",
        "    en_data_input[i, char, en_char_int[char_en]] = 1 \n",
        "  for char, char_de in enumerate(de_):\n",
        "    de_data_input[i, char, de_char_int[char_de]] = 1\n",
        "    if char > 0:\n",
        "      decode_target[i, char-1, de_char_int[char_de]] = 1 "
      ],
      "execution_count": 0,
      "outputs": []
    },
    {
      "cell_type": "markdown",
      "metadata": {
        "id": "YBlAh51ENGbw",
        "colab_type": "text"
      },
      "source": [
        "# Model Building\n",
        "\n",
        "* Input : encoded data, decoded data\n",
        "* Output : decode target"
      ]
    },
    {
      "cell_type": "code",
      "metadata": {
        "id": "UR0n7s_Zy7Td",
        "colab_type": "code",
        "colab": {}
      },
      "source": [
        "# Training Variables \n",
        "batch_size = 64  \n",
        "vec_len = 300\n",
        "epochs = 50\n",
        "dropout_rate = 0.2 \n",
        "latent_dim = 128\n",
        "num_samples = 4000 "
      ],
      "execution_count": 0,
      "outputs": []
    },
    {
      "cell_type": "code",
      "metadata": {
        "id": "DmXQo8BYKXaJ",
        "colab_type": "code",
        "colab": {
          "base_uri": "https://localhost:8080/",
          "height": 88
        },
        "outputId": "5b7f6559-e4d4-4e0e-9821-fd4b7cdbd784"
      },
      "source": [
        "\n",
        "en_inputs = Input(shape=(None, num_en_char))\n",
        "\n",
        "encoder = CuDNNLSTM(latent_dim, return_sequences=True)(en_inputs)\n",
        "\n",
        "encoder2 = CuDNNLSTM(latent_dim, return_state=True)\n",
        "\n",
        "encoder_outputs, state_h, state_c = encoder2(encoder)\n",
        "\n",
        "encoder_states = [state_h, state_c]\n",
        "de_inputs = Input(shape=(None, num_de_char))\n",
        "\n",
        "decoder_lstm = CuDNNLSTM(latent_dim, return_sequences=True)\n",
        "\n",
        "decoder_lstm2 = CuDNNLSTM(latent_dim, return_sequences=True, return_state=True)\n",
        "\n",
        "decoder_layer1 = decoder_lstm(de_inputs, initial_state=encoder_states)\n",
        "\n",
        "decoder_outputs, _, _ = decoder_lstm2(decoder_layer1)\n",
        "\n",
        "decoder_dense = Dense(num_de_char, activation='softmax')\n",
        "\n",
        "decoder_outputs = decoder_dense(decoder_outputs)\n",
        "\n",
        "# Combine Encoder and Decoder Model\n",
        "model = Model([en_inputs, de_inputs], decoder_outputs)\n"
      ],
      "execution_count": 18,
      "outputs": [
        {
          "output_type": "stream",
          "text": [
            "WARNING:tensorflow:From /usr/local/lib/python3.6/dist-packages/tensorflow/python/framework/op_def_library.py:263: colocate_with (from tensorflow.python.framework.ops) is deprecated and will be removed in a future version.\n",
            "Instructions for updating:\n",
            "Colocations handled automatically by placer.\n"
          ],
          "name": "stdout"
        }
      ]
    },
    {
      "cell_type": "code",
      "metadata": {
        "id": "cJeVV5x2QXL6",
        "colab_type": "code",
        "outputId": "81fac48e-d1a9-48ba-8c07-bd9ded01fbc7",
        "colab": {
          "base_uri": "https://localhost:8080/",
          "height": 1873
        }
      },
      "source": [
        "# Training\n",
        "model.compile(optimizer='rmsprop', loss='categorical_crossentropy')\n",
        "model.fit([en_data_input, de_data_input], decode_target, batch_size=batch_size,\n",
        "         epochs=epochs, validation_split=0.2)"
      ],
      "execution_count": 20,
      "outputs": [
        {
          "output_type": "stream",
          "text": [
            "WARNING:tensorflow:From /usr/local/lib/python3.6/dist-packages/tensorflow/python/ops/math_ops.py:3066: to_int32 (from tensorflow.python.ops.math_ops) is deprecated and will be removed in a future version.\n",
            "Instructions for updating:\n",
            "Use tf.cast instead.\n",
            "WARNING:tensorflow:From /usr/local/lib/python3.6/dist-packages/tensorflow/python/ops/math_grad.py:102: div (from tensorflow.python.ops.math_ops) is deprecated and will be removed in a future version.\n",
            "Instructions for updating:\n",
            "Deprecated in favor of operator or tf.math.divide.\n",
            "Train on 5670 samples, validate on 1418 samples\n",
            "Epoch 1/50\n",
            "5670/5670 [==============================] - 36s 6ms/step - loss: 0.1904 - val_loss: 0.1859\n",
            "Epoch 2/50\n",
            "5670/5670 [==============================] - 29s 5ms/step - loss: 0.1776 - val_loss: 0.1675\n",
            "Epoch 3/50\n",
            "5670/5670 [==============================] - 30s 5ms/step - loss: 0.1603 - val_loss: 0.1543\n",
            "Epoch 4/50\n",
            "5670/5670 [==============================] - 30s 5ms/step - loss: 0.1497 - val_loss: 0.1459\n",
            "Epoch 5/50\n",
            "5670/5670 [==============================] - 30s 5ms/step - loss: 0.1427 - val_loss: 0.1402\n",
            "Epoch 6/50\n",
            "5670/5670 [==============================] - 30s 5ms/step - loss: 0.1375 - val_loss: 0.1370\n",
            "Epoch 7/50\n",
            "5670/5670 [==============================] - 30s 5ms/step - loss: 0.1330 - val_loss: 0.1315\n",
            "Epoch 8/50\n",
            "5670/5670 [==============================] - 30s 5ms/step - loss: 0.1290 - val_loss: 0.1278\n",
            "Epoch 9/50\n",
            "5670/5670 [==============================] - 30s 5ms/step - loss: 0.1254 - val_loss: 0.1256\n",
            "Epoch 10/50\n",
            "5670/5670 [==============================] - 30s 5ms/step - loss: 0.1221 - val_loss: 0.1238\n",
            "Epoch 11/50\n",
            "5670/5670 [==============================] - 30s 5ms/step - loss: 0.1192 - val_loss: 0.1195\n",
            "Epoch 12/50\n",
            "5670/5670 [==============================] - 30s 5ms/step - loss: 0.1165 - val_loss: 0.1173\n",
            "Epoch 13/50\n",
            "5670/5670 [==============================] - 30s 5ms/step - loss: 0.1141 - val_loss: 0.1159\n",
            "Epoch 14/50\n",
            "5670/5670 [==============================] - 30s 5ms/step - loss: 0.1118 - val_loss: 0.1138\n",
            "Epoch 15/50\n",
            "5670/5670 [==============================] - 30s 5ms/step - loss: 0.1097 - val_loss: 0.1152\n",
            "Epoch 16/50\n",
            "5670/5670 [==============================] - 30s 5ms/step - loss: 0.1078 - val_loss: 0.1122\n",
            "Epoch 17/50\n",
            "5670/5670 [==============================] - 30s 5ms/step - loss: 0.1060 - val_loss: 0.1097\n",
            "Epoch 18/50\n",
            "5670/5670 [==============================] - 30s 5ms/step - loss: 0.1043 - val_loss: 0.1075\n",
            "Epoch 19/50\n",
            "5670/5670 [==============================] - 30s 5ms/step - loss: 0.1027 - val_loss: 0.1066\n",
            "Epoch 20/50\n",
            "5670/5670 [==============================] - 30s 5ms/step - loss: 0.1013 - val_loss: 0.1056\n",
            "Epoch 21/50\n",
            "5670/5670 [==============================] - 30s 5ms/step - loss: 0.0999 - val_loss: 0.1047\n",
            "Epoch 22/50\n",
            "5670/5670 [==============================] - 30s 5ms/step - loss: 0.0985 - val_loss: 0.1038\n",
            "Epoch 23/50\n",
            "5670/5670 [==============================] - 30s 5ms/step - loss: 0.0973 - val_loss: 0.1033\n",
            "Epoch 24/50\n",
            "5670/5670 [==============================] - 30s 5ms/step - loss: 0.0962 - val_loss: 0.1023\n",
            "Epoch 25/50\n",
            "5670/5670 [==============================] - 30s 5ms/step - loss: 0.0951 - val_loss: 0.1012\n",
            "Epoch 26/50\n",
            "5670/5670 [==============================] - 30s 5ms/step - loss: 0.0940 - val_loss: 0.1010\n",
            "Epoch 27/50\n",
            "5670/5670 [==============================] - 30s 5ms/step - loss: 0.0931 - val_loss: 0.1005\n",
            "Epoch 28/50\n",
            "5670/5670 [==============================] - 30s 5ms/step - loss: 0.0921 - val_loss: 0.0997\n",
            "Epoch 29/50\n",
            "5670/5670 [==============================] - 30s 5ms/step - loss: 0.0913 - val_loss: 0.0993\n",
            "Epoch 30/50\n",
            "5670/5670 [==============================] - 30s 5ms/step - loss: 0.0905 - val_loss: 0.0991\n",
            "Epoch 31/50\n",
            "5670/5670 [==============================] - 30s 5ms/step - loss: 0.0896 - val_loss: 0.0983\n",
            "Epoch 32/50\n",
            "5670/5670 [==============================] - 30s 5ms/step - loss: 0.0888 - val_loss: 0.0987\n",
            "Epoch 33/50\n",
            "5670/5670 [==============================] - 30s 5ms/step - loss: 0.0881 - val_loss: 0.0980\n",
            "Epoch 34/50\n",
            "5670/5670 [==============================] - 30s 5ms/step - loss: 0.0874 - val_loss: 0.0974\n",
            "Epoch 35/50\n",
            "5670/5670 [==============================] - 30s 5ms/step - loss: 0.0867 - val_loss: 0.0971\n",
            "Epoch 36/50\n",
            "5670/5670 [==============================] - 30s 5ms/step - loss: 0.0861 - val_loss: 0.0969\n",
            "Epoch 37/50\n",
            "5670/5670 [==============================] - 30s 5ms/step - loss: 0.0855 - val_loss: 0.0968\n",
            "Epoch 38/50\n",
            "5670/5670 [==============================] - 29s 5ms/step - loss: 0.0848 - val_loss: 0.0961\n",
            "Epoch 39/50\n",
            "5670/5670 [==============================] - 30s 5ms/step - loss: 0.0843 - val_loss: 0.0962\n",
            "Epoch 40/50\n",
            "5670/5670 [==============================] - 29s 5ms/step - loss: 0.0837 - val_loss: 0.0958\n",
            "Epoch 41/50\n",
            "5670/5670 [==============================] - 29s 5ms/step - loss: 0.0831 - val_loss: 0.0960\n",
            "Epoch 42/50\n",
            "5670/5670 [==============================] - 30s 5ms/step - loss: 0.0826 - val_loss: 0.0959\n",
            "Epoch 43/50\n",
            "5670/5670 [==============================] - 30s 5ms/step - loss: 0.0820 - val_loss: 0.0954\n",
            "Epoch 44/50\n",
            "5670/5670 [==============================] - 30s 5ms/step - loss: 0.0816 - val_loss: 0.0960\n",
            "Epoch 45/50\n",
            "5670/5670 [==============================] - 30s 5ms/step - loss: 0.0811 - val_loss: 0.0956\n",
            "Epoch 46/50\n",
            "5670/5670 [==============================] - 30s 5ms/step - loss: 0.0806 - val_loss: 0.0954\n",
            "Epoch 47/50\n",
            "5670/5670 [==============================] - 30s 5ms/step - loss: 0.0802 - val_loss: 0.0955\n",
            "Epoch 48/50\n",
            "5670/5670 [==============================] - 30s 5ms/step - loss: 0.0797 - val_loss: 0.0951\n",
            "Epoch 49/50\n",
            "5670/5670 [==============================] - 30s 5ms/step - loss: 0.0792 - val_loss: 0.0958\n",
            "Epoch 50/50\n",
            "5670/5670 [==============================] - 30s 5ms/step - loss: 0.0788 - val_loss: 0.0952\n"
          ],
          "name": "stdout"
        },
        {
          "output_type": "execute_result",
          "data": {
            "text/plain": [
              "<keras.callbacks.History at 0x7fab6ba962e8>"
            ]
          },
          "metadata": {
            "tags": []
          },
          "execution_count": 20
        }
      ]
    },
    {
      "cell_type": "code",
      "metadata": {
        "id": "DvECN-iHILEr",
        "colab_type": "code",
        "outputId": "8cdd66bd-4309-4dbd-c63b-305c0e1182fa",
        "colab": {
          "base_uri": "https://localhost:8080/",
          "height": 71
        }
      },
      "source": [
        "# Save model\n",
        "model.save('s2s.h5')"
      ],
      "execution_count": 21,
      "outputs": [
        {
          "output_type": "stream",
          "text": [
            "/usr/local/lib/python3.6/dist-packages/keras/engine/network.py:877: UserWarning: Layer cu_dnnlstm_3 was passed non-serializable keyword arguments: {'initial_state': [<tf.Tensor 'cu_dnnlstm_2/strided_slice_16:0' shape=(?, 128) dtype=float32>, <tf.Tensor 'cu_dnnlstm_2/strided_slice_17:0' shape=(?, 128) dtype=float32>]}. They will not be included in the serialized model (and thus will be missing at deserialization time).\n",
            "  '. They will not be included '\n"
          ],
          "name": "stderr"
        }
      ]
    },
    {
      "cell_type": "code",
      "metadata": {
        "id": "Eyten_Yi2KCw",
        "colab_type": "code",
        "colab": {
          "base_uri": "https://localhost:8080/",
          "height": 408
        },
        "outputId": "74a649e5-88aa-4aaf-b278-390c79181059"
      },
      "source": [
        "model.summary()"
      ],
      "execution_count": 22,
      "outputs": [
        {
          "output_type": "stream",
          "text": [
            "__________________________________________________________________________________________________\n",
            "Layer (type)                    Output Shape         Param #     Connected to                     \n",
            "==================================================================================================\n",
            "input_2 (InputLayer)            (None, None, 89)     0                                            \n",
            "__________________________________________________________________________________________________\n",
            "cu_dnnlstm_1 (CuDNNLSTM)        (None, None, 128)    112128      input_2[0][0]                    \n",
            "__________________________________________________________________________________________________\n",
            "input_3 (InputLayer)            (None, None, 89)     0                                            \n",
            "__________________________________________________________________________________________________\n",
            "cu_dnnlstm_2 (CuDNNLSTM)        [(None, 128), (None, 132096      cu_dnnlstm_1[0][0]               \n",
            "__________________________________________________________________________________________________\n",
            "cu_dnnlstm_3 (CuDNNLSTM)        (None, None, 128)    112128      input_3[0][0]                    \n",
            "                                                                 cu_dnnlstm_2[0][1]               \n",
            "                                                                 cu_dnnlstm_2[0][2]               \n",
            "__________________________________________________________________________________________________\n",
            "cu_dnnlstm_4 (CuDNNLSTM)        [(None, None, 128),  132096      cu_dnnlstm_3[0][0]               \n",
            "__________________________________________________________________________________________________\n",
            "dense_1 (Dense)                 (None, None, 89)     11481       cu_dnnlstm_4[0][0]               \n",
            "==================================================================================================\n",
            "Total params: 499,929\n",
            "Trainable params: 499,929\n",
            "Non-trainable params: 0\n",
            "__________________________________________________________________________________________________\n"
          ],
          "name": "stdout"
        }
      ]
    },
    {
      "cell_type": "code",
      "metadata": {
        "id": "WhcIB2yBQ_2x",
        "colab_type": "code",
        "colab": {}
      },
      "source": [
        "# Sampling model = rebuilding model using only the necessary parts \n",
        "encoder_models = Model(en_inputs, encoder_states)\n",
        "\n",
        "decoder_state_input_h = Input(shape=(latent_dim,))\n",
        "decoder_state_input_c = Input(shape=(latent_dim,))\n",
        "decoder_states_inputs = [decoder_state_input_h, decoder_state_input_c]\n",
        "decoder_output = decoder_lstm(de_inputs, initial_state=decoder_states_inputs)\n",
        "decoder_outputs, state_h, state_c = decoder_lstm2(decoder_output)\n",
        "decoder_states = [state_h, state_c]\n",
        "decoder_outputs = decoder_dense(decoder_outputs)\n",
        "decoder_model = Model([de_inputs] + decoder_states_inputs,\n",
        "                     [decoder_outputs] + decoder_states)"
      ],
      "execution_count": 0,
      "outputs": []
    },
    {
      "cell_type": "markdown",
      "metadata": {
        "id": "AuC7WQPJWRnr",
        "colab_type": "text"
      },
      "source": [
        "# Model Prediction Testing "
      ]
    },
    {
      "cell_type": "code",
      "metadata": {
        "id": "En5c4Pm4SpqN",
        "colab_type": "code",
        "colab": {}
      },
      "source": [
        "def decode_sequence(input_seq):\n",
        "  states_value = encoder_models.predict(input_seq)\n",
        "  \n",
        "  target_seq = np.zeros((1, 1, num_de_char))\n",
        "  target_seq[0, 0, de_char_int['\\t']] = 1\n",
        "  \n",
        "  stop_condition = False \n",
        "  decoded_sentence = ''\n",
        "  \n",
        "  while not stop_condition:\n",
        "    output_tokens, h, c = decoder_model.predict([target_seq] + states_value)\n",
        "    \n",
        "    sampled_char_index = np.argmax(output_tokens[0, -1, :])\n",
        "    sampled_char = de_int_char[sampled_char_index]\n",
        "    decoded_sentence += sampled_char\n",
        "    \n",
        "    if(sampled_char == '\\n' or len(decoded_sentence) > max_de_sentence):\n",
        "      stop_condition = True\n",
        "      \n",
        "    target_seq = np.zeros((1, 1, num_de_char))\n",
        "    target_seq[0, 0, sampled_char_index] = 1\n",
        "    \n",
        "    states_value = [h, c]\n",
        "    \n",
        "  return decoded_sentence"
      ],
      "execution_count": 0,
      "outputs": []
    },
    {
      "cell_type": "code",
      "metadata": {
        "id": "VZ9X6OO27538",
        "colab_type": "code",
        "colab": {}
      },
      "source": [
        "def sent_seq(sentence):\n",
        "  input_seq = np.zeros((1, max_en_sentence, num_en_char))\n",
        "  for i, letter in enumerate(sentence):\n",
        "    input_seq[0, i, en_char_int[letter]]\n",
        "  return input_seq"
      ],
      "execution_count": 0,
      "outputs": []
    },
    {
      "cell_type": "code",
      "metadata": {
        "id": "KbCQG6WHUWg0",
        "colab_type": "code",
        "colab": {
          "base_uri": "https://localhost:8080/",
          "height": 867
        },
        "outputId": "f0d0c85e-db86-40e2-84a4-486092487dce"
      },
      "source": [
        "for seq_index in range(10):\n",
        "  input_seq = en_data_input[seq_index : seq_index + 1]\n",
        "  decoded_sentence = decode_sequence(input_seq)\n",
        "  \n",
        "  print('-')\n",
        "  print('Input:', en_sample[seq_index])\n",
        "  print('Decode: ', decoded_sentence)"
      ],
      "execution_count": 26,
      "outputs": [
        {
          "output_type": "stream",
          "text": [
            "-\n",
            "Input: You guys, you guys! Chef is going away. \n",
            "\n",
            "Decode:   X H!\n",
            "\n",
            "-\n",
            "Input: \t Going away? For how long?\n",
            "\n",
            "Decode:   X H!\n",
            "\n",
            "-\n",
            "Input: \t Forever.\n",
            "\n",
            "Decode:   X H!\n",
            "\n",
            "-\n",
            "Input: \t I'm sorry boys.\n",
            "\n",
            "Decode:   X H!\n",
            "\n",
            "-\n",
            "Input: \t Chef said he's been bored, so he joining a group called the Super Adventure Club. \n",
            "\n",
            "Decode:   X H!\n",
            "\n",
            "-\n",
            "Input: \t Wow!\n",
            "\n",
            "Decode:   X H!\n",
            "\n",
            "-\n",
            "Input: \t Chef?? What kind of questions do you think adventuring around the world is gonna answer?!\n",
            "\n",
            "Decode:   X H!\n",
            "\n",
            "-\n",
            "Input: \t What's the meaning of life? Why are we here?\n",
            "\n",
            "Decode:   X H!\n",
            "\n",
            "-\n",
            "Input: \t I hope you're making the right choice.\n",
            "\n",
            "Decode:   X H!\n",
            "\n",
            "-\n",
            "Input: \t I'm gonna miss him.  I'm gonna miss Chef and I...and I don't know how to tell him! \n",
            "\n",
            "Decode:   X H!\n",
            "\n"
          ],
          "name": "stdout"
        }
      ]
    },
    {
      "cell_type": "code",
      "metadata": {
        "id": "uHQzjQLxVPmo",
        "colab_type": "code",
        "outputId": "2684de94-1d8e-48a9-d483-043eb6018e46",
        "colab": {
          "base_uri": "https://localhost:8080/",
          "height": 68
        }
      },
      "source": [
        "query = input(\": \")\n",
        "input_seq = sent_seq(query)\n",
        "print(\">\", decode_sequence(input_seq))"
      ],
      "execution_count": 27,
      "outputs": [
        {
          "output_type": "stream",
          "text": [
            ": Hello\n",
            ">  X H!\n",
            "\n"
          ],
          "name": "stdout"
        }
      ]
    },
    {
      "cell_type": "code",
      "metadata": {
        "id": "Zn5Fh0vA5Y7O",
        "colab_type": "code",
        "colab": {}
      },
      "source": [
        ""
      ],
      "execution_count": 0,
      "outputs": []
    }
  ]
}